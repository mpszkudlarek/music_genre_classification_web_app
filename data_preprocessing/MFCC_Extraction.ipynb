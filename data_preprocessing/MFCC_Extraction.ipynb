{
 "nbformat": 4,
 "nbformat_minor": 0,
 "metadata": {
  "colab": {
   "name": "MFCC-Extraction.ipynb",
   "provenance": [],
   "collapsed_sections": [],
   "authorship_tag": "ABX9TyP5VyH/fN+J6r7kZEka+VJy",
   "include_colab_link": true
  },
  "kernelspec": {
   "name": "python3",
   "language": "python",
   "display_name": "Python 3 (ipykernel)"
  }
 },
 "cells": [
  {
   "cell_type": "markdown",
   "source": [
    "## Importing libraries"
   ],
   "metadata": {
    "collapsed": false
   }
  },
  {
   "cell_type": "code",
   "execution_count": 13,
   "outputs": [],
   "source": [
    "import json\n",
    "import os\n",
    "import math\n",
    "import librosa"
   ],
   "metadata": {
    "collapsed": false,
    "ExecuteTime": {
     "end_time": "2023-12-06T15:12:39.450968100Z",
     "start_time": "2023-12-06T15:12:39.434449Z"
    }
   }
  },
  {
   "cell_type": "markdown",
   "source": [
    "## save_mfcc Function\n",
    "\n",
    "The `save_mfcc` takes several parameters:\n",
    "- `dataset_path`: The directory path of audio files,\n",
    "- `sample_rate`: The sampling rate for audio processing,\n",
    "- `track_duration`: The duration of each audio track in seconds,\n",
    "- `json_path`: File path to save the output in JSON format,\n",
    "- `num_mfcc`: Number of MFCC features to extract,\n",
    "- `n_fft`: The window size for the Fourier Transform,\n",
    "- `hop_length`: The hop length for STFT,\n",
    "- `num_segments`: The number of segments to divide each audio track,\n",
    "\n",
    "These parameters allow customization of the MFCC extraction process to suit different datasets and requirements.\n"
   ],
   "metadata": {
    "collapsed": false
   }
  },
  {
   "cell_type": "code",
   "execution_count": 14,
   "outputs": [],
   "source": [
    "def save_mfcc(dataset_path, sample_rate, track_duration, json_path, num_mfcc, n_fft, hop_length, num_segments):\n",
    "    data = {\"mapping\": [], \"labels\": [], \"mfcc\": []}\n",
    "    samples_per_track = sample_rate * track_duration\n",
    "    samples_per_segment = int(samples_per_track / num_segments)\n",
    "    num_mfcc_vectors_per_segment = math.ceil(samples_per_segment / hop_length)\n",
    "\n",
    "    for i, (current_directory, _, audio_files) in enumerate(os.walk(dataset_path)):\n",
    "        if current_directory != dataset_path:\n",
    "            genre_label = os.path.basename(current_directory)\n",
    "            data[\"mapping\"].append(genre_label)\n",
    "            for audio_file_name in audio_files:\n",
    "                file_path = os.path.join(current_directory, audio_file_name)\n",
    "                try:\n",
    "                    signal, _ = librosa.load(file_path, sr=sample_rate)\n",
    "                    for segment_index in range(num_segments):\n",
    "                        segment_start = samples_per_segment * segment_index\n",
    "                        segment_end = segment_start + samples_per_segment\n",
    "                        mfcc_coefficients = librosa.feature.mfcc(\n",
    "                            y=signal[segment_start:segment_end],\n",
    "                            sr=sample_rate,\n",
    "                            n_mfcc=num_mfcc,\n",
    "                            n_fft=n_fft,\n",
    "                            hop_length=hop_length).T\n",
    "                        if len(mfcc_coefficients) == num_mfcc_vectors_per_segment:\n",
    "                            data[\"mfcc\"].append(mfcc_coefficients.tolist())\n",
    "                            data[\"labels\"].append(i - 1)\n",
    "                except Exception as e:\n",
    "                    print(f\"Error processing {file_path}: {e}\")\n",
    "            print(f\"{genre_label} - done\")\n",
    "\n",
    "    with open(json_path, \"w\") as fp:\n",
    "        json.dump(data, fp, indent=4)\n",
    "    print(mfcc_coefficients.shape)"
   ],
   "metadata": {
    "collapsed": false,
    "ExecuteTime": {
     "end_time": "2023-12-06T15:12:39.976138100Z",
     "start_time": "2023-12-06T15:12:39.968090100Z"
    }
   }
  },
  {
   "cell_type": "markdown",
   "source": [
    "## Running the MFCC Extraction\n",
    "\n",
    "The `save_mfcc` function is executed with specific parameters for our dataset. The output will be a JSON file that contains MFCCs for each segment of the audio files in the dataset.\n"
   ],
   "metadata": {
    "collapsed": false
   }
  },
  {
   "cell_type": "code",
   "metadata": {
    "id": "Vk6Q5aiQXM1O",
    "ExecuteTime": {
     "end_time": "2023-12-06T15:14:05.412648Z",
     "start_time": "2023-12-06T15:12:40.931299600Z"
    }
   },
   "source": [
    "save_mfcc(dataset_path='gztan_dataset/genres_original',\n",
    "          sample_rate=22050,\n",
    "          track_duration=30,\n",
    "          json_path='git.json',\n",
    "          num_mfcc=13,\n",
    "          n_fft=2048,\n",
    "          hop_length=512,\n",
    "          num_segments=10)"
   ],
   "execution_count": 15,
   "outputs": [
    {
     "name": "stdout",
     "output_type": "stream",
     "text": [
      "blues - done\n",
      "classical - done\n",
      "country - done\n",
      "disco - done\n",
      "hiphop - done\n",
      "jazz - done\n",
      "metal - done\n",
      "pop - done\n",
      "reggae - done\n",
      "rock - done\n",
      "(130, 13)\n"
     ]
    }
   ]
  }
 ]
}
